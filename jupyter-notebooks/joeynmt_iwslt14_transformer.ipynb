{
  "nbformat": 4,
  "nbformat_minor": 0,
  "metadata": {
    "colab": {
      "name": "joeynmt_iwslt14_transformer.ipynb",
      "provenance": [],
      "collapsed_sections": []
    },
    "kernelspec": {
      "name": "python3",
      "display_name": "Python 3"
    }
  },
  "cells": [
    {
      "cell_type": "markdown",
      "metadata": {
        "id": "CS31lsjH-lOl",
        "colab_type": "text"
      },
      "source": [
        "# Training eines NMÜ-Modells mithilfe von Joey NMT\n",
        "\n",
        "## 1. Installation der benötigten Python-Pakete"
      ]
    },
    {
      "cell_type": "code",
      "metadata": {
        "id": "KxGeNQKq9VpN",
        "colab_type": "code",
        "colab": {}
      },
      "source": [
        "!pip install wheel\n",
        "!pip install joeynmt\n",
        "!pip install subword-nmt"
      ],
      "execution_count": null,
      "outputs": []
    },
    {
      "cell_type": "markdown",
      "metadata": {
        "id": "keJswjz8-Zsg",
        "colab_type": "text"
      },
      "source": [
        "# 2. Vorbereitung des Korpus\n",
        "## 2.1 Download und Vorbereitung der Daten"
      ]
    },
    {
      "cell_type": "code",
      "metadata": {
        "id": "apjSKW-F_53h",
        "colab_type": "code",
        "colab": {}
      },
      "source": [
        "# Download eines Shell-Skripts, welches die Daten der IWSLT14-Konferenz herunterlädt und vorbehandelt: (inkl. Aufteilung in Datensätze und BPE)\n",
        "!curl https://raw.githubusercontent.com/joeynmt/joeynmt/master/scripts/get_iwslt14_bpe.sh > get_iwslt14_bpe.sh\n",
        "\n",
        "# Rechte zuteilen, damit Skript ausgeführt werden kann\n",
        "!chmod +x get_iwslt14_bpe.sh\n",
        "\n",
        "# Ausführen des Skripts\n",
        "!./get_iwslt14_bpe.sh\n",
        "\n",
        "# Verschieben der Daten in das aktuelle Arbeitsverzeichnis\n",
        "!mv ../test/ ."
      ],
      "execution_count": null,
      "outputs": []
    },
    {
      "cell_type": "markdown",
      "metadata": {
        "id": "wRlHWk3q05j8",
        "colab_type": "text"
      },
      "source": [
        "## 2.2 Vokabular bauen"
      ]
    },
    {
      "cell_type": "code",
      "metadata": {
        "id": "2gGRbAQwtcHV",
        "colab_type": "code",
        "colab": {}
      },
      "source": [
        "# Download des benötigten Skripts\n",
        "!curl https://raw.githubusercontent.com/joeynmt/joeynmt/master/scripts/build_vocab.py > build_vocab.py\n",
        "\n",
        "# Rechte zuteilen, damit Skript ausgeführt werden kann\n",
        "!chmod +x build_vocab.py\n",
        "\n",
        "# Bau des Vokabulars = Ausführen des Skripts\n",
        "!./build_vocab.py test/data/iwslt14/train.bpe.32000.de test/data/iwslt14/train.bpe.32000.en\n",
        "\n",
        "# Vokabular wird in den Ordner mit den Korpusdaten verschoben\n",
        "!mv vocab.txt test/data/iwslt14/"
      ],
      "execution_count": null,
      "outputs": []
    },
    {
      "cell_type": "markdown",
      "metadata": {
        "id": "7ju2uMdL1TGf",
        "colab_type": "text"
      },
      "source": [
        "# 3. Konfiguration des Modells"
      ]
    },
    {
      "cell_type": "code",
      "metadata": {
        "id": "AdghiXEOMaIo",
        "colab_type": "code",
        "colab": {}
      },
      "source": [
        "# Ordner für Konfiguration erstellen\n",
        "!mkdir configs\n",
        "\n",
        "# Download der Standard-Konfiguration\n",
        "!curl https://raw.githubusercontent.com/joeynmt/joeynmt/master/configs/transformer_iwslt14_deen_bpe.yaml > configs/transformer_iwslt14_deen_bpe.yaml"
      ],
      "execution_count": null,
      "outputs": []
    },
    {
      "cell_type": "markdown",
      "metadata": {
        "id": "Jxl39q7e16tr",
        "colab_type": "text"
      },
      "source": [
        "# 4. Training des Modells"
      ]
    },
    {
      "cell_type": "code",
      "metadata": {
        "id": "DcW4UnthrtgI",
        "colab_type": "code",
        "colab": {}
      },
      "source": [
        "import yaml\n",
        "import torch\n",
        "\n",
        "# Die Konfiguration wird geladen\n",
        "with open(\"configs/transformer_iwslt14_deen_bpe.yaml\", 'r') as file:\n",
        "  config = yaml.safe_load(file)\n",
        "\n",
        "# Gibt es eine CUDA-fähige GPU und es steht in der Konfiguration, dass sie verwendet werden soll, dann wird das Training auf der GPU gestartet\n",
        "\n",
        "if config[\"training\"][\"use_cuda\"] == True and torch.cuda.is_available() == True:\n",
        "  print(\"--- Training läuft auf der GPU ---\")\n",
        "\n",
        "  !python3 -m joeynmt train configs/transformer_iwslt14_deen_bpe.yaml\n",
        "\n",
        "# Gibt es keine GPU, wird die Konfiguration geändert und das Training auf der CPU gestartet\n",
        "else:\n",
        "  config[\"training\"][\"use_cuda\"] = False\n",
        "\n",
        "  with open(\"configs/transformer_iwslt14_deen_bpe.yaml\", 'w') as file:\n",
        "    yaml.dump(config, file)\n",
        "\n",
        "  print(\"--- Training läuft auf der CPU ---\")\n",
        "\n",
        "  !python3 -m joeynmt train configs/transformer_iwslt14_deen_bpe.yaml\n"
      ],
      "execution_count": null,
      "outputs": []
    },
    {
      "cell_type": "markdown",
      "metadata": {
        "id": "nL-0uYJH3RnM",
        "colab_type": "text"
      },
      "source": [
        "# 5. Testen des Modells"
      ]
    },
    {
      "cell_type": "code",
      "metadata": {
        "id": "irfTRMnV2926",
        "colab_type": "code",
        "colab": {}
      },
      "source": [
        "# Starten des Tests, vorhergesagte Übersetzungen werden als \"predictions\" in das Modellverzeichnis geschrieben\n",
        "!python3 -m joeynmt test configs/transformer_iwslt14_deen_bpe.yaml --output_path models/iwslt14_deen_bpe_transformer/predictions"
      ],
      "execution_count": null,
      "outputs": []
    }
  ]
}
